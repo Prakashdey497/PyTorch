{
  "nbformat": 4,
  "nbformat_minor": 0,
  "metadata": {
    "colab": {
      "provenance": [],
      "toc_visible": true
    },
    "kernelspec": {
      "name": "python3",
      "display_name": "Python 3"
    },
    "language_info": {
      "name": "python"
    },
    "gpuClass": "standard",
    "accelerator": "GPU"
  },
  "cells": [
    {
      "cell_type": "markdown",
      "source": [
        "### 00. Pytorch Fundamental\n",
        "\n",
        "resource :- \"https://www.learnpytorch.io/\""
      ],
      "metadata": {
        "id": "WRNQfk7jiwDW"
      }
    },
    {
      "cell_type": "code",
      "source": [
        "import torch\n",
        "import pandas as pd\n",
        "import numpy as np\n",
        "import matplotlib.pyplot as plt\n",
        "print(torch.__version__)"
      ],
      "metadata": {
        "colab": {
          "base_uri": "https://localhost:8080/"
        },
        "id": "uj6G-5YYi5Kk",
        "outputId": "3967a51c-086a-4959-cb77-4e848989ce27"
      },
      "execution_count": null,
      "outputs": [
        {
          "output_type": "stream",
          "name": "stdout",
          "text": [
            "1.13.1+cu116\n"
          ]
        }
      ]
    },
    {
      "cell_type": "markdown",
      "source": [
        "## Introduction to tensor\n",
        "## creating tensor"
      ],
      "metadata": {
        "id": "yfoOtipIkyVI"
      }
    },
    {
      "cell_type": "code",
      "source": [
        "# scalar\n",
        "scalar = torch.tensor(7)\n",
        "scalar"
      ],
      "metadata": {
        "colab": {
          "base_uri": "https://localhost:8080/"
        },
        "id": "R1XxSLgYlW-7",
        "outputId": "e74aa664-f65f-4281-b980-3d4027074391"
      },
      "execution_count": null,
      "outputs": [
        {
          "output_type": "execute_result",
          "data": {
            "text/plain": [
              "tensor(7)"
            ]
          },
          "metadata": {},
          "execution_count": 2
        }
      ]
    },
    {
      "cell_type": "code",
      "source": [
        "scalar.ndim"
      ],
      "metadata": {
        "colab": {
          "base_uri": "https://localhost:8080/"
        },
        "id": "w8_ZG4fDlmR0",
        "outputId": "810bfe25-9a05-4b9b-ccca-e12e3262c25e"
      },
      "execution_count": null,
      "outputs": [
        {
          "output_type": "execute_result",
          "data": {
            "text/plain": [
              "0"
            ]
          },
          "metadata": {},
          "execution_count": 3
        }
      ]
    },
    {
      "cell_type": "code",
      "source": [
        "# Get tensor back as python int\n",
        "scalar.item()"
      ],
      "metadata": {
        "colab": {
          "base_uri": "https://localhost:8080/"
        },
        "id": "txmArSs_l_L8",
        "outputId": "c228711d-26a1-4f4a-f128-8644b2892aba"
      },
      "execution_count": null,
      "outputs": [
        {
          "output_type": "execute_result",
          "data": {
            "text/plain": [
              "7"
            ]
          },
          "metadata": {},
          "execution_count": 4
        }
      ]
    },
    {
      "cell_type": "code",
      "source": [
        "# Vector\n",
        "vector = torch.tensor([2,3])\n",
        "vector"
      ],
      "metadata": {
        "colab": {
          "base_uri": "https://localhost:8080/"
        },
        "id": "Zsa8kxeImJqy",
        "outputId": "5d2a1aae-9771-4190-8af7-d41fe8f7cfb9"
      },
      "execution_count": null,
      "outputs": [
        {
          "output_type": "execute_result",
          "data": {
            "text/plain": [
              "tensor([2, 3])"
            ]
          },
          "metadata": {},
          "execution_count": 5
        }
      ]
    },
    {
      "cell_type": "code",
      "source": [
        "vector.ndim , vector.shape"
      ],
      "metadata": {
        "colab": {
          "base_uri": "https://localhost:8080/"
        },
        "id": "seyPyT_imWhL",
        "outputId": "0a21dc20-8b28-44dc-f072-58b9bf1cf40e"
      },
      "execution_count": null,
      "outputs": [
        {
          "output_type": "execute_result",
          "data": {
            "text/plain": [
              "(1, torch.Size([2]))"
            ]
          },
          "metadata": {},
          "execution_count": 6
        }
      ]
    },
    {
      "cell_type": "code",
      "source": [
        "# Matrix \n",
        "matrix = torch.tensor([\n",
        "                       [2,3],\n",
        "                       [4,5]])"
      ],
      "metadata": {
        "id": "-SKHSl9zmgZY"
      },
      "execution_count": null,
      "outputs": []
    },
    {
      "cell_type": "code",
      "source": [
        "matrix.ndim"
      ],
      "metadata": {
        "colab": {
          "base_uri": "https://localhost:8080/"
        },
        "id": "B7UjZrsXm2Ca",
        "outputId": "ce9cf942-f0c0-4c0b-bd36-e4ff8384c8fd"
      },
      "execution_count": null,
      "outputs": [
        {
          "output_type": "execute_result",
          "data": {
            "text/plain": [
              "2"
            ]
          },
          "metadata": {},
          "execution_count": 8
        }
      ]
    },
    {
      "cell_type": "code",
      "source": [
        "matrix.shape"
      ],
      "metadata": {
        "colab": {
          "base_uri": "https://localhost:8080/"
        },
        "id": "IjMkBaHlm6ee",
        "outputId": "450e99b4-398d-4b0c-d583-96dfeecd4c6f"
      },
      "execution_count": null,
      "outputs": [
        {
          "output_type": "execute_result",
          "data": {
            "text/plain": [
              "torch.Size([2, 2])"
            ]
          },
          "metadata": {},
          "execution_count": 9
        }
      ]
    },
    {
      "cell_type": "code",
      "source": [
        "# Tensor\n",
        "tensor_x = torch.tensor([[[1,2,3],\n",
        "                        [4,5,6],\n",
        "                        [7,8,9]\n",
        "                        ]])"
      ],
      "metadata": {
        "id": "OrY9RaHQm9WQ"
      },
      "execution_count": null,
      "outputs": []
    },
    {
      "cell_type": "code",
      "source": [
        "tensor_x.ndim, tensor_x.shape"
      ],
      "metadata": {
        "colab": {
          "base_uri": "https://localhost:8080/"
        },
        "id": "gSTar2jHwdh_",
        "outputId": "2ba54656-25bf-4793-9191-b18f1c9dd400"
      },
      "execution_count": null,
      "outputs": [
        {
          "output_type": "execute_result",
          "data": {
            "text/plain": [
              "(3, torch.Size([1, 3, 3]))"
            ]
          },
          "metadata": {},
          "execution_count": 11
        }
      ]
    },
    {
      "cell_type": "code",
      "source": [
        "tensor_x[0]"
      ],
      "metadata": {
        "colab": {
          "base_uri": "https://localhost:8080/"
        },
        "id": "JRBjGIgzwkRf",
        "outputId": "2d5aab05-49d4-4372-a9c0-6e561e399ada"
      },
      "execution_count": null,
      "outputs": [
        {
          "output_type": "execute_result",
          "data": {
            "text/plain": [
              "tensor([[1, 2, 3],\n",
              "        [4, 5, 6],\n",
              "        [7, 8, 9]])"
            ]
          },
          "metadata": {},
          "execution_count": 12
        }
      ]
    },
    {
      "cell_type": "code",
      "source": [
        "print(tensor_x[0][0])\n",
        "print(tensor_x[0][0][0])"
      ],
      "metadata": {
        "colab": {
          "base_uri": "https://localhost:8080/"
        },
        "id": "YUZeJi0Cw1pk",
        "outputId": "35a4551c-4aeb-4e81-ce41-14069bd50bb6"
      },
      "execution_count": null,
      "outputs": [
        {
          "output_type": "stream",
          "name": "stdout",
          "text": [
            "tensor([1, 2, 3])\n",
            "tensor(1)\n"
          ]
        }
      ]
    },
    {
      "cell_type": "code",
      "source": [
        "# tensor with dimension (3,4,4)\n",
        "tensor_3_dim = torch.tensor(\n",
        "                         [\n",
        "                             [[0.5510, 0.2981, 0.6302, 0.5871],\n",
        "                              [0.7076, 0.3730, 0.3600, 0.2577],\n",
        "                              [0.8368, 0.1554, 0.1390, 0.0678],\n",
        "                              [0.4496, 0.6624, 0.7304, 0.3617]],\n",
        "                          \n",
        "                             [[0.5138, 0.8146, 0.6720, 0.9523],\n",
        "                              [0.3172, 0.8868, 0.3077, 0.8750],\n",
        "                              [0.9166, 0.4885, 0.3542, 0.1125],\n",
        "                              [0.7636, 0.1389, 0.2336, 0.5487]],\n",
        "                          \n",
        "                             [[0.9991, 0.8615, 0.5954, 0.3122],\n",
        "                              [0.5402, 0.7750, 0.0260, 0.8256],\n",
        "                              [0.4685, 0.4842, 0.0369, 0.0310],\n",
        "                              [0.3952, 0.1188, 0.4497, 0.3211]]\n",
        "                          \n",
        "                         ])\n",
        "print(tensor_3_dim.ndim)\n",
        "print(tensor_3_dim.shape)"
      ],
      "metadata": {
        "id": "ELc5hsODxTxK",
        "colab": {
          "base_uri": "https://localhost:8080/"
        },
        "outputId": "6399f8e3-3c26-4c66-c5f2-64d03ef812ea"
      },
      "execution_count": null,
      "outputs": [
        {
          "output_type": "stream",
          "name": "stdout",
          "text": [
            "3\n",
            "torch.Size([3, 4, 4])\n"
          ]
        }
      ]
    },
    {
      "cell_type": "code",
      "source": [
        "# creating a tensor with size (2,3,4,4)\n",
        "tensor_4_dim = torch.tensor(\n",
        "                  [\n",
        "                    [\n",
        "                      [[0.3176, 0.8413, 0.6380, 0.5882],\n",
        "                       [0.1942, 0.0600, 0.8510, 0.6968],\n",
        "                       [0.1046, 0.7624, 0.7707, 0.4456],\n",
        "                       [0.9986, 0.8450, 0.1984, 0.9842]],\n",
        "                   \n",
        "                      [[0.1682, 0.3234, 0.1744, 0.8580],\n",
        "                       [0.9982, 0.4751, 0.8617, 0.4240],\n",
        "                       [0.3586, 0.9378, 0.1438, 0.7737],\n",
        "                       [0.7280, 0.0280, 0.0675, 0.0323]],\n",
        "                   \n",
        "                      [[0.5429, 0.5763, 0.6014, 0.2468],\n",
        "                       [0.4043, 0.6162, 0.1933, 0.7036],\n",
        "                       [0.6104, 0.7113, 0.7113, 0.9487],\n",
        "                       [0.6271, 0.3043, 0.6168, 0.2726]]\n",
        "                    ],\n",
        "                   [\n",
        "                       [[0.8558, 0.5708, 0.8934, 0.9217],\n",
        "                        [0.4618, 0.0774, 0.1695, 0.4710],\n",
        "                        [0.4444, 0.1936, 0.2303, 0.1389],\n",
        "                        [0.3383, 0.9708, 0.1734, 0.7970]],\n",
        "\n",
        "                       [[0.8814, 0.4841, 0.1803, 0.6093],\n",
        "                        [0.8032, 0.1359, 0.2181, 0.9806],\n",
        "                        [0.3835, 0.1232, 0.8821, 0.6789],\n",
        "                        [0.4415, 0.7638, 0.6754, 0.8531]],\n",
        "\n",
        "                       [[0.9826, 0.8736, 0.3568, 0.4553],\n",
        "                        [0.9019, 0.4283, 0.0695, 0.4791],\n",
        "                        [0.0414, 0.4349, 0.1928, 0.7803],\n",
        "                        [0.8900, 0.7021, 0.3000, 0.1801]]\n",
        "                   ]\n",
        "\n",
        "                  ]\n",
        ")\n",
        "print(tensor_4_dim.ndim)\n",
        "print(tensor_4_dim.shape)"
      ],
      "metadata": {
        "colab": {
          "base_uri": "https://localhost:8080/"
        },
        "id": "7S9x4XU1xTtB",
        "outputId": "d059eb68-9199-4d57-f82f-792e0541b2f0"
      },
      "execution_count": null,
      "outputs": [
        {
          "output_type": "stream",
          "name": "stdout",
          "text": [
            "4\n",
            "torch.Size([2, 3, 4, 4])\n"
          ]
        }
      ]
    },
    {
      "cell_type": "code",
      "source": [],
      "metadata": {
        "id": "sqlN096Nw73U"
      },
      "execution_count": null,
      "outputs": []
    },
    {
      "cell_type": "markdown",
      "source": [
        "### Rendom Tensor"
      ],
      "metadata": {
        "id": "AQHAhBHsxT5l"
      }
    },
    {
      "cell_type": "code",
      "source": [
        "#create a random tensor with size (3,4)\n",
        "\n",
        "random_tensor = torch.rand(3,4)\n",
        "random_tensor"
      ],
      "metadata": {
        "colab": {
          "base_uri": "https://localhost:8080/"
        },
        "id": "tnmkAVZpxT3j",
        "outputId": "9837f226-d86c-4ba0-a096-3a3d68aa65ae"
      },
      "execution_count": null,
      "outputs": [
        {
          "output_type": "execute_result",
          "data": {
            "text/plain": [
              "tensor([[0.3079, 0.3293, 0.3956, 0.0226],\n",
              "        [0.6882, 0.9291, 0.7498, 0.0114],\n",
              "        [0.5440, 0.1382, 0.5402, 0.7846]])"
            ]
          },
          "metadata": {},
          "execution_count": 16
        }
      ]
    },
    {
      "cell_type": "code",
      "source": [
        "#create a random tensor with size (1,2,2)\n",
        "random_tensor_3 = torch.rand(3,4,4)\n",
        "random_tensor_3"
      ],
      "metadata": {
        "colab": {
          "base_uri": "https://localhost:8080/"
        },
        "id": "nqen71B0xT1d",
        "outputId": "fc2b8d45-5ef8-453c-8940-007927adab39"
      },
      "execution_count": null,
      "outputs": [
        {
          "output_type": "execute_result",
          "data": {
            "text/plain": [
              "tensor([[[0.2254, 0.0121, 0.8815, 0.5916],\n",
              "         [0.7563, 0.7735, 0.4873, 0.9288],\n",
              "         [0.5101, 0.0813, 0.2454, 0.4463],\n",
              "         [0.6220, 0.5075, 0.3323, 0.4116]],\n",
              "\n",
              "        [[0.9803, 0.7918, 0.2394, 0.0309],\n",
              "         [0.4904, 0.6390, 0.7543, 0.5942],\n",
              "         [0.4566, 0.9476, 0.0101, 0.5460],\n",
              "         [0.8597, 0.3586, 0.9240, 0.1105]],\n",
              "\n",
              "        [[0.4956, 0.8175, 0.5706, 0.5520],\n",
              "         [0.2107, 0.3486, 0.7332, 0.3356],\n",
              "         [0.6390, 0.0862, 0.4091, 0.3939],\n",
              "         [0.4545, 0.1544, 0.0081, 0.9825]]])"
            ]
          },
          "metadata": {},
          "execution_count": 17
        }
      ]
    },
    {
      "cell_type": "code",
      "source": [
        "#create a random tensor with size (1,2,2)\n",
        "random_tensor_4 = torch.rand(2,3,4,4)\n",
        "random_tensor_4"
      ],
      "metadata": {
        "colab": {
          "base_uri": "https://localhost:8080/"
        },
        "id": "gZ-yCu8sxTzN",
        "outputId": "b4070ccd-e6f3-4737-938a-c7124c248dd0"
      },
      "execution_count": null,
      "outputs": [
        {
          "output_type": "execute_result",
          "data": {
            "text/plain": [
              "tensor([[[[0.6985, 0.8012, 0.1272, 0.2187],\n",
              "          [0.3475, 0.5750, 0.3307, 0.9225],\n",
              "          [0.8400, 0.9974, 0.1832, 0.7155],\n",
              "          [0.1620, 0.7377, 0.1178, 0.3992]],\n",
              "\n",
              "         [[0.8653, 0.8753, 0.4563, 0.3800],\n",
              "          [0.9626, 0.8201, 0.6499, 0.3839],\n",
              "          [0.6006, 0.0851, 0.9958, 0.6395],\n",
              "          [0.2530, 0.6451, 0.6820, 0.8978]],\n",
              "\n",
              "         [[0.9659, 0.3161, 0.6481, 0.2360],\n",
              "          [0.4245, 0.7138, 0.0900, 0.7911],\n",
              "          [0.3726, 0.9351, 0.4797, 0.4230],\n",
              "          [0.1879, 0.5729, 0.0047, 0.8499]]],\n",
              "\n",
              "\n",
              "        [[[0.0642, 0.2935, 0.5244, 0.5684],\n",
              "          [0.1880, 0.1840, 0.1774, 0.8780],\n",
              "          [0.4591, 0.3712, 0.2333, 0.0382],\n",
              "          [0.4623, 0.5676, 0.9751, 0.7634]],\n",
              "\n",
              "         [[0.0569, 0.6902, 0.9272, 0.5980],\n",
              "          [0.7128, 0.2016, 0.6151, 0.0504],\n",
              "          [0.1714, 0.5052, 0.2192, 0.8366],\n",
              "          [0.1009, 0.8191, 0.2503, 0.7529]],\n",
              "\n",
              "         [[0.9274, 0.2018, 0.6315, 0.0460],\n",
              "          [0.9687, 0.1397, 0.0258, 0.0216],\n",
              "          [0.4823, 0.7489, 0.0111, 0.2162],\n",
              "          [0.3924, 0.0267, 0.2452, 0.6357]]]])"
            ]
          },
          "metadata": {},
          "execution_count": 18
        }
      ]
    },
    {
      "cell_type": "code",
      "source": [
        "#create a random tensor with similar shape to an image tensor\n",
        "random_tensor_image = torch.rand(size = (224,224,3))  # Height,Width,colour channel(R,G,B)\n",
        "print(random_tensor_image.shape)\n",
        "print(random_tensor_image.ndim)"
      ],
      "metadata": {
        "colab": {
          "base_uri": "https://localhost:8080/"
        },
        "id": "6jXFKZaPxTqz",
        "outputId": "18d9c0aa-d5f5-42d2-e711-368f0847460e"
      },
      "execution_count": null,
      "outputs": [
        {
          "output_type": "stream",
          "name": "stdout",
          "text": [
            "torch.Size([224, 224, 3])\n",
            "3\n"
          ]
        }
      ]
    },
    {
      "cell_type": "markdown",
      "source": [
        "###Zeros and Ones"
      ],
      "metadata": {
        "id": "GzBcv_uGxTls"
      }
    },
    {
      "cell_type": "code",
      "source": [
        "#create a tensor with all zeros\n",
        "tensor_zero = torch.zeros(3,4)\n",
        "tensor_zero"
      ],
      "metadata": {
        "colab": {
          "base_uri": "https://localhost:8080/"
        },
        "id": "RfQKkHWwxTip",
        "outputId": "e9e48521-d11b-4b2b-ceca-3482f5df4d83"
      },
      "execution_count": null,
      "outputs": [
        {
          "output_type": "execute_result",
          "data": {
            "text/plain": [
              "tensor([[0., 0., 0., 0.],\n",
              "        [0., 0., 0., 0.],\n",
              "        [0., 0., 0., 0.]])"
            ]
          },
          "metadata": {},
          "execution_count": 20
        }
      ]
    },
    {
      "cell_type": "code",
      "source": [
        "#create a tensor with all ones\n",
        "tensor_ones = torch.ones(3,4)\n",
        "tensor_ones"
      ],
      "metadata": {
        "colab": {
          "base_uri": "https://localhost:8080/"
        },
        "id": "ew1Yocq2xTec",
        "outputId": "48af2507-65a7-4a69-b317-ed256ebb17a8"
      },
      "execution_count": null,
      "outputs": [
        {
          "output_type": "execute_result",
          "data": {
            "text/plain": [
              "tensor([[1., 1., 1., 1.],\n",
              "        [1., 1., 1., 1.],\n",
              "        [1., 1., 1., 1.]])"
            ]
          },
          "metadata": {},
          "execution_count": 21
        }
      ]
    },
    {
      "cell_type": "code",
      "source": [
        "print(tensor_ones.dtype) #pytorch default date type is float32"
      ],
      "metadata": {
        "colab": {
          "base_uri": "https://localhost:8080/"
        },
        "id": "KgmrIL9K-rQo",
        "outputId": "35ea2b44-735c-46d3-d670-366493ef71b6"
      },
      "execution_count": null,
      "outputs": [
        {
          "output_type": "stream",
          "name": "stdout",
          "text": [
            "torch.float32\n"
          ]
        }
      ]
    },
    {
      "cell_type": "markdown",
      "source": [
        "###Create a Range of Tensor and Tensor_like"
      ],
      "metadata": {
        "id": "APzcgTkr-07L"
      }
    },
    {
      "cell_type": "code",
      "source": [
        "#create a tensor range from one to thousend with step 100\n",
        "one_to_thousend_range = torch.arange(start=1,end=1000,step = 100)\n",
        "one_to_thousend_range"
      ],
      "metadata": {
        "colab": {
          "base_uri": "https://localhost:8080/"
        },
        "id": "5V84353X_C0J",
        "outputId": "62fba159-1cec-4a9c-b7e0-b52f24216f08"
      },
      "execution_count": null,
      "outputs": [
        {
          "output_type": "execute_result",
          "data": {
            "text/plain": [
              "tensor([  1, 101, 201, 301, 401, 501, 601, 701, 801, 901])"
            ]
          },
          "metadata": {},
          "execution_count": 23
        }
      ]
    },
    {
      "cell_type": "code",
      "source": [
        "#create a tensor like\n",
        "tensor_zero_like = torch.zeros_like(one_to_thousend_range)\n",
        "tensor_zero_like"
      ],
      "metadata": {
        "colab": {
          "base_uri": "https://localhost:8080/"
        },
        "id": "GXhY1tkb_DhH",
        "outputId": "7b1b28e1-1c86-4bef-9f15-732546c2a6fd"
      },
      "execution_count": null,
      "outputs": [
        {
          "output_type": "execute_result",
          "data": {
            "text/plain": [
              "tensor([0, 0, 0, 0, 0, 0, 0, 0, 0, 0])"
            ]
          },
          "metadata": {},
          "execution_count": 24
        }
      ]
    },
    {
      "cell_type": "markdown",
      "source": [
        "###Tensor DataType\n",
        "\n",
        "**NOTE:** 3 Type of big Error in pytorch Deep Learning we will face:\n",
        "\n",
        "1.Tensor are not right datatype\n",
        "\n",
        "2.Tensor are not right device\n",
        "\n",
        "3.Tensor are not on the right shape"
      ],
      "metadata": {
        "id": "smYOBoc2KJ01"
      }
    },
    {
      "cell_type": "code",
      "source": [
        "#Create Float-32 Tensor\n",
        "float_32_tensor = torch.tensor([1.0,3.3,4.0],\n",
        "                               dtype= None,  # What datatype is the Tensor(e.g.- float32,float16 and so on..)\n",
        "                               device= None,# what device is tensor on\n",
        "                               requires_grad= False # wheather or not to track gradient with this tensor opearation \n",
        "                               )\n",
        "float_32_tensor.dtype"
      ],
      "metadata": {
        "colab": {
          "base_uri": "https://localhost:8080/"
        },
        "id": "8iuCzBVHKaP-",
        "outputId": "654f3f55-124f-4a0a-d072-2e850d4d244c"
      },
      "execution_count": null,
      "outputs": [
        {
          "output_type": "execute_result",
          "data": {
            "text/plain": [
              "torch.float32"
            ]
          },
          "metadata": {},
          "execution_count": 25
        }
      ]
    },
    {
      "cell_type": "code",
      "source": [
        "#Create float-16 tensor\n",
        "float_16_tensor = torch.tensor([1.0,3.3,4.0],\n",
        "                               dtype= torch.float16,  # What datatype is the Tensor(e.g.- float32,float16 and so on..)\n",
        "                               device= None,# what device is tensor on (default cpu)\n",
        "                               requires_grad= False # wheather or not to track gradient with this tensor opearation \n",
        "                               )\n",
        "float_16_tensor"
      ],
      "metadata": {
        "colab": {
          "base_uri": "https://localhost:8080/"
        },
        "id": "pla4KqqdKaOt",
        "outputId": "4c1e20eb-3707-4439-bd83-24369f946e3c"
      },
      "execution_count": null,
      "outputs": [
        {
          "output_type": "execute_result",
          "data": {
            "text/plain": [
              "tensor([1.0000, 3.3008, 4.0000], dtype=torch.float16)"
            ]
          },
          "metadata": {},
          "execution_count": 26
        }
      ]
    },
    {
      "cell_type": "code",
      "source": [
        "#create int32 tensor\n",
        "int_32_tensor = torch.tensor([1,2,3],\n",
        "                             dtype=torch.int32,\n",
        "                             device = None)\n",
        "int_32_tensor"
      ],
      "metadata": {
        "colab": {
          "base_uri": "https://localhost:8080/"
        },
        "id": "-LrrcblMKaMK",
        "outputId": "8b398fda-647c-4d9a-8ada-e1897ad21e3b"
      },
      "execution_count": null,
      "outputs": [
        {
          "output_type": "execute_result",
          "data": {
            "text/plain": [
              "tensor([1, 2, 3], dtype=torch.int32)"
            ]
          },
          "metadata": {},
          "execution_count": 27
        }
      ]
    },
    {
      "cell_type": "markdown",
      "source": [
        "###Getting information from tensors\n",
        "\n",
        "Once we've created tensors, we might want to get some information from them.\n",
        "\n",
        "1. Tensors not right datatype - to do get datatype from tensor, can use `tensor.dtype`\n",
        "\n",
        "2. Tensors not right shape - to get shape from a tensor, can use `tensor.shape`\n",
        "\n",
        "3. Tensor not on the right device- to get device from a tensor, can use `tensor.device`"
      ],
      "metadata": {
        "id": "cM4VGt7WKaJh"
      }
    },
    {
      "cell_type": "code",
      "source": [
        "#create a tensor\n",
        "some_tensor = torch.rand(3,4)\n",
        "some_tensor"
      ],
      "metadata": {
        "colab": {
          "base_uri": "https://localhost:8080/"
        },
        "id": "FLiuDhThKaG4",
        "outputId": "ea8b9197-2dfe-447e-a3f2-7f8111321ae2"
      },
      "execution_count": null,
      "outputs": [
        {
          "output_type": "execute_result",
          "data": {
            "text/plain": [
              "tensor([[0.2988, 0.9128, 0.9574, 0.7214],\n",
              "        [0.8871, 0.2325, 0.8976, 0.4507],\n",
              "        [0.0025, 0.7885, 0.7025, 0.4141]])"
            ]
          },
          "metadata": {},
          "execution_count": 28
        }
      ]
    },
    {
      "cell_type": "code",
      "source": [
        "#Find out details about some tensor\n",
        "print(some_tensor)\n",
        "print(f\"Datatype of tensor: {some_tensor.dtype}\")\n",
        "print(f\"Device tensor is on: {some_tensor.device}\")\n",
        "print(f\"shape of tensor: {some_tensor.shape}\") # or we can use some_tensor.size()"
      ],
      "metadata": {
        "colab": {
          "base_uri": "https://localhost:8080/"
        },
        "id": "euxducZ-KaEg",
        "outputId": "11337eab-b19f-426f-92bf-e170da19f152"
      },
      "execution_count": null,
      "outputs": [
        {
          "output_type": "stream",
          "name": "stdout",
          "text": [
            "tensor([[0.2988, 0.9128, 0.9574, 0.7214],\n",
            "        [0.8871, 0.2325, 0.8976, 0.4507],\n",
            "        [0.0025, 0.7885, 0.7025, 0.4141]])\n",
            "Datatype of tensor: torch.float32\n",
            "Device tensor is on: cpu\n",
            "shape of tensor: torch.Size([3, 4])\n"
          ]
        }
      ]
    },
    {
      "cell_type": "markdown",
      "source": [
        "###Manipulating Tensor(tensor opearations)\n",
        "Tensor opearation include:\n",
        "\n",
        "* Addition\n",
        "* Subtraction\n",
        "* Multiplication\n",
        "* Division\n",
        "* Matrix Multiplication\n",
        "\n"
      ],
      "metadata": {
        "id": "w51dY9ENKaCP"
      }
    },
    {
      "cell_type": "code",
      "source": [
        "#create a tensor and add 10\n",
        "tensor= torch.tensor([2,3,4])\n",
        "\n",
        "print(tensor + 10)\n",
        "\n",
        "# we can use PyTorch in-built fuction\n",
        "print(torch.add(tensor,10))"
      ],
      "metadata": {
        "colab": {
          "base_uri": "https://localhost:8080/"
        },
        "id": "rUd9TNUPKZ_v",
        "outputId": "4a4e40b8-2adf-41d3-aadd-5115a20698f8"
      },
      "execution_count": null,
      "outputs": [
        {
          "output_type": "stream",
          "name": "stdout",
          "text": [
            "tensor([12, 13, 14])\n",
            "tensor([12, 13, 14])\n"
          ]
        }
      ]
    },
    {
      "cell_type": "code",
      "source": [
        "# Multiply tensor by 10\n",
        "print(tensor*10)\n",
        "\n",
        "# we can use PyTorch in-built fuction\n",
        "print(torch.mul(tensor,10))"
      ],
      "metadata": {
        "colab": {
          "base_uri": "https://localhost:8080/"
        },
        "id": "N-SvIkOHKZ33",
        "outputId": "adc36c28-fb1b-45ba-807d-13ab0328d04f"
      },
      "execution_count": null,
      "outputs": [
        {
          "output_type": "stream",
          "name": "stdout",
          "text": [
            "tensor([20, 30, 40])\n",
            "tensor([20, 30, 40])\n"
          ]
        }
      ]
    },
    {
      "cell_type": "code",
      "source": [
        "# Subtraction tensor by 10\n",
        "print(tensor-10)\n",
        "\n",
        "# we can use PyTorch in-built fuction\n",
        "print(torch.sub(tensor,10))"
      ],
      "metadata": {
        "colab": {
          "base_uri": "https://localhost:8080/"
        },
        "id": "muXftuFpKZx5",
        "outputId": "b380fd75-9a86-4bcd-901d-79d995ce0775"
      },
      "execution_count": null,
      "outputs": [
        {
          "output_type": "stream",
          "name": "stdout",
          "text": [
            "tensor([-8, -7, -6])\n",
            "tensor([-8, -7, -6])\n"
          ]
        }
      ]
    },
    {
      "cell_type": "code",
      "source": [
        "# matrix multiplication\n",
        "\n",
        "tensor1 = torch.tensor([3,4,5])\n",
        "tensor2 = torch.tensor([7,9,6])\n",
        "tensor1*tensor2"
      ],
      "metadata": {
        "colab": {
          "base_uri": "https://localhost:8080/"
        },
        "id": "zt4NxgxVKZvv",
        "outputId": "c6cc0d5f-4e2f-4a8d-fc7a-059250028c8d"
      },
      "execution_count": null,
      "outputs": [
        {
          "output_type": "execute_result",
          "data": {
            "text/plain": [
              "tensor([21, 36, 30])"
            ]
          },
          "metadata": {},
          "execution_count": 33
        }
      ]
    },
    {
      "cell_type": "markdown",
      "source": [
        "###Matrix multiplication (is all you need)\n",
        "\n",
        "Two main ways of performing multiplication in neural network and deep learning:\n",
        "\n",
        "1.Element-wise multiplication\n",
        "\n",
        "2.Matrix Multiplication\n"
      ],
      "metadata": {
        "id": "sGQ7UndwKZpx"
      }
    },
    {
      "cell_type": "code",
      "source": [
        "# Element wise matrix multiplication\n",
        "print(tensor1,\"*\",tensor2)\n",
        "print(f\"Equals: {tensor1*tensor2}\")"
      ],
      "metadata": {
        "colab": {
          "base_uri": "https://localhost:8080/"
        },
        "id": "3hQ2WCEJKZmr",
        "outputId": "ac363fdf-f2ca-443c-8471-16cc117878a4"
      },
      "execution_count": null,
      "outputs": [
        {
          "output_type": "stream",
          "name": "stdout",
          "text": [
            "tensor([3, 4, 5]) * tensor([7, 9, 6])\n",
            "Equals: tensor([21, 36, 30])\n"
          ]
        }
      ]
    },
    {
      "cell_type": "code",
      "source": [
        "#Matrix Multiplication\n",
        "torch.matmul(tensor1,tensor2)"
      ],
      "metadata": {
        "colab": {
          "base_uri": "https://localhost:8080/"
        },
        "id": "WaLGReN0eloz",
        "outputId": "55526e1f-f784-4eb5-8205-b8d6f2aa21b4"
      },
      "execution_count": null,
      "outputs": [
        {
          "output_type": "execute_result",
          "data": {
            "text/plain": [
              "tensor(87)"
            ]
          },
          "metadata": {},
          "execution_count": 35
        }
      ]
    },
    {
      "cell_type": "code",
      "source": [
        "# Can also use the \"@\" symbol for matrix multiplication, though not recommended\n",
        "tensor1 @ tensor2"
      ],
      "metadata": {
        "id": "Ho46lzAmgCgy",
        "outputId": "db3dd828-f44e-42cf-b3d7-938526ce74a6",
        "colab": {
          "base_uri": "https://localhost:8080/"
        }
      },
      "execution_count": null,
      "outputs": [
        {
          "output_type": "execute_result",
          "data": {
            "text/plain": [
              "tensor(87)"
            ]
          },
          "metadata": {},
          "execution_count": 36
        }
      ]
    },
    {
      "cell_type": "code",
      "source": [
        "# Matrix multiplication using for loop\n",
        "%%time\n",
        "value = 0\n",
        "for i in range(len(tensor1)):\n",
        "  value +=tensor1[i]*tensor2[i]\n",
        "\n",
        "print(value)"
      ],
      "metadata": {
        "colab": {
          "base_uri": "https://localhost:8080/"
        },
        "id": "0wqztgzgexgM",
        "outputId": "661840d9-6887-40c8-8e9b-a5e468109547"
      },
      "execution_count": null,
      "outputs": [
        {
          "output_type": "stream",
          "name": "stdout",
          "text": [
            "tensor(87)\n",
            "CPU times: user 4.19 ms, sys: 189 µs, total: 4.38 ms\n",
            "Wall time: 3.65 ms\n"
          ]
        }
      ]
    },
    {
      "cell_type": "code",
      "source": [
        "# Matrix multiplication using Tensor\n",
        "%%time\n",
        "torch.matmul(tensor1,tensor2)"
      ],
      "metadata": {
        "colab": {
          "base_uri": "https://localhost:8080/"
        },
        "id": "o-toduiqexeL",
        "outputId": "ed5db31c-adc5-412f-bb87-e1aab8d29792"
      },
      "execution_count": null,
      "outputs": [
        {
          "output_type": "stream",
          "name": "stdout",
          "text": [
            "CPU times: user 386 µs, sys: 62 µs, total: 448 µs\n",
            "Wall time: 322 µs\n"
          ]
        },
        {
          "output_type": "execute_result",
          "data": {
            "text/plain": [
              "tensor(87)"
            ]
          },
          "metadata": {},
          "execution_count": 38
        }
      ]
    },
    {
      "cell_type": "code",
      "source": [
        "random_tensor = torch.rand(3,2)\n",
        "# Transpose matrix\n",
        "print(f\"Shape of matrix before Transpose :{random_tensor.shape}\")\n",
        "print(f\"shape of matrix after Transpose :{random_tensor.T.shape}\")"
      ],
      "metadata": {
        "id": "CUGAzbqjexcH",
        "colab": {
          "base_uri": "https://localhost:8080/"
        },
        "outputId": "e23d06d5-c14c-4f3a-b2b4-26d4d53e28a1"
      },
      "execution_count": null,
      "outputs": [
        {
          "output_type": "stream",
          "name": "stdout",
          "text": [
            "Shape of matrix before Transpose :torch.Size([3, 2])\n",
            "shape of matrix after Transpose :torch.Size([2, 3])\n"
          ]
        }
      ]
    },
    {
      "cell_type": "markdown",
      "source": [
        "###Finding the min,max,mean,sum etc(tensor aggregation)"
      ],
      "metadata": {
        "id": "6XQCuM49exaH"
      }
    },
    {
      "cell_type": "code",
      "source": [
        "# create a tensor\n",
        "x = torch.arange(start = 0,end= 10,step=1,dtype =torch.float32)\n",
        "x"
      ],
      "metadata": {
        "id": "WLCFLRHlexXi",
        "colab": {
          "base_uri": "https://localhost:8080/"
        },
        "outputId": "4b30b18f-2138-4fb6-da48-04cb5db3f370"
      },
      "execution_count": null,
      "outputs": [
        {
          "output_type": "execute_result",
          "data": {
            "text/plain": [
              "tensor([0., 1., 2., 3., 4., 5., 6., 7., 8., 9.])"
            ]
          },
          "metadata": {},
          "execution_count": 50
        }
      ]
    },
    {
      "cell_type": "code",
      "source": [
        "x.dtype"
      ],
      "metadata": {
        "colab": {
          "base_uri": "https://localhost:8080/"
        },
        "id": "Tt02BNf1tTnP",
        "outputId": "d0f240a5-70c0-4c88-e65f-602033ba1620"
      },
      "execution_count": null,
      "outputs": [
        {
          "output_type": "execute_result",
          "data": {
            "text/plain": [
              "torch.float32"
            ]
          },
          "metadata": {},
          "execution_count": 51
        }
      ]
    },
    {
      "cell_type": "code",
      "source": [
        "#Find the min\n",
        "print(f\"Minimum : {torch.min(x)}\")\n",
        "\n",
        "#Find the max\n",
        "print(f\"Maximum : {torch.max(x)}\")\n",
        "\n",
        "#Find the sum\n",
        "print(f\"Sum : {torch.sum(x)}\")\n",
        "\n",
        "#Find the mean\n",
        "print(f\"Average : {torch.mean(x)}\")"
      ],
      "metadata": {
        "id": "TXN0uEo7exVV",
        "colab": {
          "base_uri": "https://localhost:8080/"
        },
        "outputId": "04d6b9e4-f9d7-41c5-9c7a-0f7eeed3b850"
      },
      "execution_count": null,
      "outputs": [
        {
          "output_type": "stream",
          "name": "stdout",
          "text": [
            "Minimum : 0.0\n",
            "Maximum : 9.0\n",
            "Sum : 45.0\n",
            "Average : 4.5\n"
          ]
        }
      ]
    },
    {
      "cell_type": "markdown",
      "source": [
        "### Finding the positional min and max"
      ],
      "metadata": {
        "id": "7WF7HTHDexS_"
      }
    },
    {
      "cell_type": "code",
      "source": [
        "# Find the position in tensor that has the minimum value with argmin() -> return index position of target tensor where the minimum value occour\n",
        "x.argmin()\n",
        "print(f\"list index value : {x.argmin()} | Minimum value : {x[x.argmin()]}\")"
      ],
      "metadata": {
        "colab": {
          "base_uri": "https://localhost:8080/"
        },
        "id": "J0Qjkc7fubRH",
        "outputId": "b8c2ca14-216d-4295-b21e-c05f8d9f5875"
      },
      "execution_count": null,
      "outputs": [
        {
          "output_type": "stream",
          "name": "stdout",
          "text": [
            "list index value : 0 | Minimum value : 0.0\n"
          ]
        }
      ]
    },
    {
      "cell_type": "code",
      "source": [
        "# Find the position in tensor that has the maximum value with argmax() -> return index position of target tensor where the maximum value occour\n",
        "print(f\"list index value : {x.argmax()} | Maximum value : {x[x.argmax()]}\")"
      ],
      "metadata": {
        "colab": {
          "base_uri": "https://localhost:8080/"
        },
        "id": "ooTJmArJu20U",
        "outputId": "3092b854-0019-47ba-885d-b53465e297e8"
      },
      "execution_count": null,
      "outputs": [
        {
          "output_type": "stream",
          "name": "stdout",
          "text": [
            "list index value : 9 | Maximum value : 9.0\n"
          ]
        }
      ]
    },
    {
      "cell_type": "markdown",
      "source": [
        "### Reshaping,Stacking,Squeezing and Unsqueezing tensors\n",
        "\n",
        "* Reshaping - reshaping an input tensor to a defined shape\n",
        "\n",
        "* view - Return a view of an input tensor of certain shape but keep the same memory as the original tensor\n",
        "\n",
        "* stacking - combin multiple tensor on top of each other (vstack) or side by side(hstack)\n",
        "\n",
        "* Squeeze - remove all `1` dimensions from a tensor\n",
        "\n",
        "* Unsqueez - add a `1` dimension to a target tensor\n",
        "\n",
        "* Permute - Return a view of the input with dimesion permuted(swapped) in a certain way\n",
        "\n"
      ],
      "metadata": {
        "id": "6_i-Msb8u2y4"
      }
    },
    {
      "cell_type": "code",
      "source": [
        "import torch\n",
        "x = torch.arange(0,10,1,dtype= torch.float32)\n",
        "x.shape"
      ],
      "metadata": {
        "colab": {
          "base_uri": "https://localhost:8080/"
        },
        "id": "Bh9KSthxu2wB",
        "outputId": "a57ece28-1cd2-4053-e46e-dbd746343315"
      },
      "execution_count": null,
      "outputs": [
        {
          "output_type": "execute_result",
          "data": {
            "text/plain": [
              "torch.Size([10])"
            ]
          },
          "metadata": {},
          "execution_count": 4
        }
      ]
    },
    {
      "cell_type": "code",
      "source": [
        "# Reshape(add extra dimension)\n",
        "reshape_tensor = x.reshape(1,10)\n",
        "print(reshape_tensor)\n",
        "print(f\"Reshape:{reshape_tensor.shape}\")\n",
        "\n",
        "#Or we can reshape it \n",
        "reshape_2_5 = x.reshape(2,5) # or we can do it (5,2) but we can't it to (3,5) or (4,5) and so on ...\n",
        "print(reshape_2_5)"
      ],
      "metadata": {
        "colab": {
          "base_uri": "https://localhost:8080/"
        },
        "id": "7k2p0iUsu2tM",
        "outputId": "f13285d2-2c2a-4fea-a5f8-3480f82ee3a5"
      },
      "execution_count": null,
      "outputs": [
        {
          "output_type": "stream",
          "name": "stdout",
          "text": [
            "tensor([[0., 1., 2., 3., 4., 5., 6., 7., 8., 9.]])\n",
            "Reshape:torch.Size([1, 10])\n",
            "tensor([[0., 1., 2., 3., 4.],\n",
            "        [5., 6., 7., 8., 9.]])\n"
          ]
        }
      ]
    },
    {
      "cell_type": "code",
      "source": [
        "# Change the view\n",
        "z = x.view(1,10)\n",
        "z,z.shape"
      ],
      "metadata": {
        "colab": {
          "base_uri": "https://localhost:8080/"
        },
        "id": "iE8KuMWku2qo",
        "outputId": "a7bf0fab-82ef-4ee7-e2cc-5bf8433bc1f3"
      },
      "execution_count": null,
      "outputs": [
        {
          "output_type": "execute_result",
          "data": {
            "text/plain": [
              "(tensor([[0., 1., 2., 3., 4., 5., 6., 7., 8., 9.]]), torch.Size([1, 10]))"
            ]
          },
          "metadata": {},
          "execution_count": 6
        }
      ]
    },
    {
      "cell_type": "code",
      "source": [
        "# Chanzing z changes x (because a view of a tensor shares the same memory as the original)\n",
        "\n",
        "z[:,0] = 5\n",
        "z,x"
      ],
      "metadata": {
        "colab": {
          "base_uri": "https://localhost:8080/"
        },
        "id": "7RCkqGUXu2n8",
        "outputId": "525389ba-d5c1-472d-d121-23493f06cb41"
      },
      "execution_count": null,
      "outputs": [
        {
          "output_type": "execute_result",
          "data": {
            "text/plain": [
              "(tensor([[5., 1., 2., 3., 4., 5., 6., 7., 8., 9.]]),\n",
              " tensor([5., 1., 2., 3., 4., 5., 6., 7., 8., 9.]))"
            ]
          },
          "metadata": {},
          "execution_count": 7
        }
      ]
    },
    {
      "cell_type": "code",
      "source": [
        "# Stack tensor on top of each other\n",
        "x_stack = torch.stack([x,x,x,x],dim = 0)\n",
        "print(f\"For Dim = 0 : {x_stack}\")\n",
        "\n",
        "x_stack = torch.stack([x,x,x,x],dim = 1)\n",
        "print(f\"\\nFor Dim = 1 : {x_stack}\")"
      ],
      "metadata": {
        "colab": {
          "base_uri": "https://localhost:8080/"
        },
        "id": "4OorSQ_Su2lZ",
        "outputId": "e7d364a3-028a-4bf8-c659-084e872a5094"
      },
      "execution_count": null,
      "outputs": [
        {
          "output_type": "stream",
          "name": "stdout",
          "text": [
            "For Dim = 0 : tensor([[5., 1., 2., 3., 4., 5., 6., 7., 8., 9.],\n",
            "        [5., 1., 2., 3., 4., 5., 6., 7., 8., 9.],\n",
            "        [5., 1., 2., 3., 4., 5., 6., 7., 8., 9.],\n",
            "        [5., 1., 2., 3., 4., 5., 6., 7., 8., 9.]])\n",
            "\n",
            "For Dim = 1 : tensor([[5., 5., 5., 5.],\n",
            "        [1., 1., 1., 1.],\n",
            "        [2., 2., 2., 2.],\n",
            "        [3., 3., 3., 3.],\n",
            "        [4., 4., 4., 4.],\n",
            "        [5., 5., 5., 5.],\n",
            "        [6., 6., 6., 6.],\n",
            "        [7., 7., 7., 7.],\n",
            "        [8., 8., 8., 8.],\n",
            "        [9., 9., 9., 9.]])\n"
          ]
        }
      ]
    },
    {
      "cell_type": "code",
      "source": [
        "# torch.squeeze() - remove all single dimensions from a target tensor\n",
        "print(f\"Tensor :{reshape_tensor}\")\n",
        "print(f\"Before squeeze Tensor shape is :{reshape_tensor.shape}\")\n",
        "\n",
        "\n",
        "#Remove extra dimension from reshape_tensor\n",
        "x_squeezed = reshape_tensor.squeeze()\n",
        "print(f\"\\nSqueeze tensor : {x_squeezed}\")\n",
        "print(f\"After sqeez Tensor shape is : {reshape_tensor.squeeze().shape}\")"
      ],
      "metadata": {
        "colab": {
          "base_uri": "https://localhost:8080/"
        },
        "id": "6UBR3NnJu2is",
        "outputId": "240a1b4c-b725-4b74-8ece-92e3e093e9ad"
      },
      "execution_count": null,
      "outputs": [
        {
          "output_type": "stream",
          "name": "stdout",
          "text": [
            "Tensor :tensor([[5., 1., 2., 3., 4., 5., 6., 7., 8., 9.]])\n",
            "Before squeeze Tensor shape is :torch.Size([1, 10])\n",
            "\n",
            "Squeeze tensor : tensor([5., 1., 2., 3., 4., 5., 6., 7., 8., 9.])\n",
            "After sqeez Tensor shape is : torch.Size([10])\n"
          ]
        }
      ]
    },
    {
      "cell_type": "code",
      "source": [
        "#torch.unsqueeze() - adds a single dimension to a target tensor at a specified dimension\n",
        "print(f\"Previous Target: {x_squeezed}\")\n",
        "print(f\"Previous Shape: {x_squeezed.shape}\")\n",
        "\n",
        "#Add an extra dimension using torch.unsqueez() method\n",
        "x_unsqueezed = x_squeezed.unsqueeze(dim = 0)\n",
        "print(f\"\\nNew tensor :{x_unsqueezed}\")\n",
        "print(f\"New tensor Shape : {x_unsqueezed.shape}\")"
      ],
      "metadata": {
        "id": "WQggeF80u2gM",
        "colab": {
          "base_uri": "https://localhost:8080/"
        },
        "outputId": "f33437d5-5b74-45ad-d5a2-b973e5b55f88"
      },
      "execution_count": null,
      "outputs": [
        {
          "output_type": "stream",
          "name": "stdout",
          "text": [
            "Previous Target: tensor([5., 1., 2., 3., 4., 5., 6., 7., 8., 9.])\n",
            "Previous Shape: torch.Size([10])\n",
            "\n",
            "New tensor :tensor([[5., 1., 2., 3., 4., 5., 6., 7., 8., 9.]])\n",
            "New tensor Shape : torch.Size([1, 10])\n"
          ]
        }
      ]
    },
    {
      "cell_type": "code",
      "source": [
        "#torch.permute - rearrange the dimension of a target tensor in a specified oreder\n",
        "x = torch.randn(2, 3, 5)\n",
        "print(x.size())\n",
        "torch.permute(x, (2, 0, 1)).size()"
      ],
      "metadata": {
        "id": "HTkF2f6Iu2dX",
        "colab": {
          "base_uri": "https://localhost:8080/"
        },
        "outputId": "cd13f854-bcf8-4804-f00e-5b5ab0e450e3"
      },
      "execution_count": null,
      "outputs": [
        {
          "output_type": "stream",
          "name": "stdout",
          "text": [
            "torch.Size([2, 3, 5])\n"
          ]
        },
        {
          "output_type": "execute_result",
          "data": {
            "text/plain": [
              "torch.Size([5, 2, 3])"
            ]
          },
          "metadata": {},
          "execution_count": 13
        }
      ]
    },
    {
      "cell_type": "markdown",
      "source": [
        "###Indexing(selecting data from tensors)\n",
        "\n",
        "Indexing with Pytorch is similar to indexing with NumPy"
      ],
      "metadata": {
        "id": "iv9WBgQxZiml"
      }
    },
    {
      "cell_type": "code",
      "source": [
        "#Create a tensor\n",
        "import torch\n",
        "x = torch.arange(1,10).reshape(1,3,3)\n",
        "print(x)\n",
        "print(x.shape)"
      ],
      "metadata": {
        "colab": {
          "base_uri": "https://localhost:8080/"
        },
        "id": "_0j1IOUnbBKk",
        "outputId": "f0b36ca1-3c4a-435f-b2af-ab4c89104e29"
      },
      "execution_count": null,
      "outputs": [
        {
          "output_type": "stream",
          "name": "stdout",
          "text": [
            "tensor([[[1, 2, 3],\n",
            "         [4, 5, 6],\n",
            "         [7, 8, 9]]])\n",
            "torch.Size([1, 3, 3])\n"
          ]
        }
      ]
    },
    {
      "cell_type": "code",
      "source": [
        "# Let's index our new tensor\n",
        "x[0]"
      ],
      "metadata": {
        "colab": {
          "base_uri": "https://localhost:8080/"
        },
        "id": "SjAipJB4bU6B",
        "outputId": "7b59a2d5-f4a3-4141-8706-2aa586435427"
      },
      "execution_count": null,
      "outputs": [
        {
          "output_type": "execute_result",
          "data": {
            "text/plain": [
              "tensor([[1, 2, 3],\n",
              "        [4, 5, 6],\n",
              "        [7, 8, 9]])"
            ]
          },
          "metadata": {},
          "execution_count": 15
        }
      ]
    },
    {
      "cell_type": "code",
      "source": [
        "# Let's Index on the middle bracket(dim =1)\n",
        "print(x[0][0]) \n",
        "#Or we can use \n",
        "print(x[0,0])"
      ],
      "metadata": {
        "colab": {
          "base_uri": "https://localhost:8080/"
        },
        "id": "JYEX3Z_sbofY",
        "outputId": "4b54b4a8-bec2-4d06-d8b4-84bd401851cd"
      },
      "execution_count": null,
      "outputs": [
        {
          "output_type": "stream",
          "name": "stdout",
          "text": [
            "tensor([1, 2, 3])\n",
            "tensor([1, 2, 3])\n"
          ]
        }
      ]
    },
    {
      "cell_type": "code",
      "source": [
        "#Let's index on the most inner bracket(last dimension)\n",
        "print(x[0][0][0])\n",
        "#Or we can use \n",
        "print(x[0,0,0])"
      ],
      "metadata": {
        "colab": {
          "base_uri": "https://localhost:8080/"
        },
        "id": "e3CqljhEb7zd",
        "outputId": "ab49bae5-308c-4372-9393-80cc8a1415fa"
      },
      "execution_count": null,
      "outputs": [
        {
          "output_type": "stream",
          "name": "stdout",
          "text": [
            "tensor(1)\n",
            "tensor(1)\n"
          ]
        }
      ]
    },
    {
      "cell_type": "code",
      "source": [
        "#We can also use \":\" to select all of a target dimesion\n",
        "x[0,1,:],"
      ],
      "metadata": {
        "colab": {
          "base_uri": "https://localhost:8080/"
        },
        "id": "7fR_AkfGceQw",
        "outputId": "aea05ef0-0cf1-4ef7-c1de-a5854a269ba9"
      },
      "execution_count": null,
      "outputs": [
        {
          "output_type": "execute_result",
          "data": {
            "text/plain": [
              "(tensor([4, 5, 6]),)"
            ]
          },
          "metadata": {},
          "execution_count": 23
        }
      ]
    },
    {
      "cell_type": "markdown",
      "source": [
        "###Pytorch tensor & Numpy\n",
        "\n",
        "* convert Numpy to pytorch Tensor -> `torch.torch.from_numpy(ndarray)`\n",
        "\n",
        "* convert PyTorch tensor to nupy -> `torch.Tensor.numpy()`\n",
        "\n",
        "**Note:** \n",
        "\n",
        "1. pytorch default data type is `float32`\n",
        "\n",
        "2. numpy default data type is `float64`"
      ],
      "metadata": {
        "id": "0xwi3i0qdQ3U"
      }
    },
    {
      "cell_type": "code",
      "source": [
        "import torch\n",
        "import numpy as np\n",
        "\n",
        "array = np.arange(1.0,8.0)\n",
        "pytorch_tensor = torch.from_numpy(array)\n",
        "print(array)\n",
        "print(pytorch_tensor.dtype)\n",
        "\n",
        "#We can change datatype to float32\n",
        "pytorch_tensor_float32 = pytorch_tensor.type(torch.float32)\n",
        "print(pytorch_tensor_float32.dtype)"
      ],
      "metadata": {
        "colab": {
          "base_uri": "https://localhost:8080/"
        },
        "id": "Qz454ZybehZ6",
        "outputId": "682a94ac-fc47-462b-de42-9e128acd54a4"
      },
      "execution_count": null,
      "outputs": [
        {
          "output_type": "stream",
          "name": "stdout",
          "text": [
            "[1. 2. 3. 4. 5. 6. 7.]\n",
            "torch.float64\n",
            "torch.float32\n"
          ]
        }
      ]
    },
    {
      "cell_type": "code",
      "source": [
        "#Tensor to Numpy\n",
        "tensor = torch.ones(7)\n",
        "numpy_tensor = tensor.numpy()\n",
        "tensor,numpy_tensor"
      ],
      "metadata": {
        "id": "BOnsGX-qfTCy",
        "colab": {
          "base_uri": "https://localhost:8080/"
        },
        "outputId": "8a1798a2-b931-418d-e897-c60d2349971f"
      },
      "execution_count": null,
      "outputs": [
        {
          "output_type": "execute_result",
          "data": {
            "text/plain": [
              "(tensor([1., 1., 1., 1., 1., 1., 1.]),\n",
              " array([1., 1., 1., 1., 1., 1., 1.], dtype=float32))"
            ]
          },
          "metadata": {},
          "execution_count": 3
        }
      ]
    },
    {
      "cell_type": "markdown",
      "source": [
        "###Reproducbility(trying to take random out of random)\n",
        "\n",
        "In sort how a neral network learns:\n",
        "\n",
        "`start with random number -> tensor opearation -> update random numbers to try and make them better representation of the data -> again ->again ->again`\n",
        "\n",
        "To reduce the randomness in neural network and pytorch comes the concept of a **random seed**\n",
        "\n",
        "Essentially what the random seed does is flavour the randomness.\n"
      ],
      "metadata": {
        "id": "WnzWmNpqAKsR"
      }
    },
    {
      "cell_type": "code",
      "source": [
        "random_tensor_A = torch.rand(3,4)\n",
        "random_tensor_B = torch.rand(3,4)\n",
        "\n",
        "print(random_tensor_A)\n",
        "print(random_tensor_B)\n",
        "\n",
        "print(random_tensor_A == random_tensor_B)"
      ],
      "metadata": {
        "colab": {
          "base_uri": "https://localhost:8080/"
        },
        "id": "1B7AiogUBdA9",
        "outputId": "8217a17a-dfe8-4a5f-fe4e-b9241c3ef0e5"
      },
      "execution_count": null,
      "outputs": [
        {
          "output_type": "stream",
          "name": "stdout",
          "text": [
            "tensor([[0.4978, 0.3899, 0.2888, 0.7468],\n",
            "        [0.6545, 0.3408, 0.6520, 0.6648],\n",
            "        [0.4989, 0.6547, 0.0618, 0.4979]])\n",
            "tensor([[0.0552, 0.0362, 0.7421, 0.5992],\n",
            "        [0.1849, 0.2259, 0.6395, 0.5383],\n",
            "        [0.4188, 0.4999, 0.9935, 0.5495]])\n",
            "tensor([[False, False, False, False],\n",
            "        [False, False, False, False],\n",
            "        [False, False, False, False]])\n"
          ]
        }
      ]
    },
    {
      "cell_type": "code",
      "source": [
        "# Let's make some random but reproducible tensor\n",
        "import torch\n",
        "\n",
        "#set the random seed\n",
        "RANDOM_SEED = 42\n",
        "torch.manual_seed(RANDOM_SEED)\n",
        "random_tensor_A = torch.rand(3,4)\n",
        "\n",
        "torch.manual_seed(RANDOM_SEED)\n",
        "random_tensor_B = torch.rand(3,4)\n",
        "\n",
        "print(random_tensor_A)\n",
        "print(random_tensor_B)\n",
        "print(random_tensor_A == random_tensor_B)"
      ],
      "metadata": {
        "colab": {
          "base_uri": "https://localhost:8080/"
        },
        "id": "ie4TA6V0CymK",
        "outputId": "a3c383d7-e2a2-4bec-dff6-3ff46a9a3e86"
      },
      "execution_count": null,
      "outputs": [
        {
          "output_type": "stream",
          "name": "stdout",
          "text": [
            "tensor([[0.8823, 0.9150, 0.3829, 0.9593],\n",
            "        [0.3904, 0.6009, 0.2566, 0.7936],\n",
            "        [0.9408, 0.1332, 0.9346, 0.5936]])\n",
            "tensor([[0.8823, 0.9150, 0.3829, 0.9593],\n",
            "        [0.3904, 0.6009, 0.2566, 0.7936],\n",
            "        [0.9408, 0.1332, 0.9346, 0.5936]])\n",
            "tensor([[True, True, True, True],\n",
            "        [True, True, True, True],\n",
            "        [True, True, True, True]])\n"
          ]
        }
      ]
    },
    {
      "cell_type": "markdown",
      "source": [
        "### Running Tensor and PyTorch object on the GPUs(and making faster computations)**bold text**\n"
      ],
      "metadata": {
        "id": "79QxSOZkDxQR"
      }
    },
    {
      "cell_type": "code",
      "source": [
        "# check for GPU access with PyTorch\n",
        "import torch\n",
        "torch.__version__\n"
      ],
      "metadata": {
        "colab": {
          "base_uri": "https://localhost:8080/",
          "height": 36
        },
        "id": "NZth3nQeEMSy",
        "outputId": "798bd799-635f-46d8-fdc6-dc2891a8dcbb"
      },
      "execution_count": null,
      "outputs": [
        {
          "output_type": "execute_result",
          "data": {
            "text/plain": [
              "'1.13.1+cu116'"
            ],
            "application/vnd.google.colaboratory.intrinsic+json": {
              "type": "string"
            }
          },
          "metadata": {},
          "execution_count": 3
        }
      ]
    },
    {
      "cell_type": "markdown",
      "source": [
        "For PyTorch since it's capable of running compute on the GPU or CPU, it's best practice to setup device agnostic code: https://pytorch.org/docs/stable/notes/cuda.html\n",
        "\n",
        "e.g. run on GPU if available, else default to CPU"
      ],
      "metadata": {
        "id": "2jTp5Bm-Ghzu"
      }
    },
    {
      "cell_type": "code",
      "source": [
        "# Setup device agnostic code\n",
        "device = \"cuda\" if torch.cuda.is_available() else \"cpu\"\n",
        "device"
      ],
      "metadata": {
        "colab": {
          "base_uri": "https://localhost:8080/",
          "height": 36
        },
        "id": "czOuyXNNEYdO",
        "outputId": "2b67a88b-f23b-4b23-8481-e0136aa09a19"
      },
      "execution_count": null,
      "outputs": [
        {
          "output_type": "execute_result",
          "data": {
            "text/plain": [
              "'cuda'"
            ],
            "application/vnd.google.colaboratory.intrinsic+json": {
              "type": "string"
            }
          },
          "metadata": {},
          "execution_count": 4
        }
      ]
    },
    {
      "cell_type": "code",
      "source": [
        "#Count number of device\n",
        "torch.cuda.device_count()"
      ],
      "metadata": {
        "colab": {
          "base_uri": "https://localhost:8080/"
        },
        "id": "kflnWzXvE41i",
        "outputId": "0e7fcfcc-d6e3-4898-d684-75cfdad0b8ad"
      },
      "execution_count": null,
      "outputs": [
        {
          "output_type": "execute_result",
          "data": {
            "text/plain": [
              "1"
            ]
          },
          "metadata": {},
          "execution_count": 5
        }
      ]
    },
    {
      "cell_type": "code",
      "source": [
        "# Create a tensor (default on the cpu)\n",
        "tensor = torch.tensor([1,2,3])\n",
        "\n",
        "#Tensor not on GPU\n",
        "print(tensor,tensor.device)"
      ],
      "metadata": {
        "colab": {
          "base_uri": "https://localhost:8080/"
        },
        "id": "gvzeIJQlFQR3",
        "outputId": "680cd791-19da-4caf-91fb-565ae6e7c6ed"
      },
      "execution_count": null,
      "outputs": [
        {
          "output_type": "stream",
          "name": "stdout",
          "text": [
            "tensor([1, 2, 3]) cpu\n"
          ]
        }
      ]
    },
    {
      "cell_type": "code",
      "source": [
        "#Move tensor to GPU(if available)\n",
        "tensor_on_gpu = tensor.to(device)\n",
        "tensor_on_gpu"
      ],
      "metadata": {
        "colab": {
          "base_uri": "https://localhost:8080/"
        },
        "id": "FgJm7FO6JBOl",
        "outputId": "9b69da43-abfb-477a-d8ca-ce29570ba90f"
      },
      "execution_count": null,
      "outputs": [
        {
          "output_type": "execute_result",
          "data": {
            "text/plain": [
              "tensor([1, 2, 3], device='cuda:0')"
            ]
          },
          "metadata": {},
          "execution_count": 8
        }
      ]
    },
    {
      "cell_type": "markdown",
      "source": [
        "**Note:** If tensor is on GPU can't transform it to NumPy \n",
        "\n",
        "To fix the GPU tensor with NumPy issue,we can first set it to the cpu"
      ],
      "metadata": {
        "id": "MgcpVMfGJS-p"
      }
    },
    {
      "cell_type": "code",
      "source": [
        "tensor_back_on_cpu = tensor_on_gpu.cpu().numpy()\n",
        "tensor_back_on_cpu"
      ],
      "metadata": {
        "colab": {
          "base_uri": "https://localhost:8080/"
        },
        "id": "BdpEwjuWJtEm",
        "outputId": "542449a3-11d3-499b-a6f4-b0be49f79544"
      },
      "execution_count": null,
      "outputs": [
        {
          "output_type": "execute_result",
          "data": {
            "text/plain": [
              "array([1, 2, 3])"
            ]
          },
          "metadata": {},
          "execution_count": 9
        }
      ]
    },
    {
      "cell_type": "code",
      "source": [],
      "metadata": {
        "id": "hf5f_rYNKT8D"
      },
      "execution_count": null,
      "outputs": []
    }
  ]
}